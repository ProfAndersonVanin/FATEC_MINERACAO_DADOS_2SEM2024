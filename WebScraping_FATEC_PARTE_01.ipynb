{
  "nbformat": 4,
  "nbformat_minor": 0,
  "metadata": {
    "colab": {
      "provenance": [],
      "authorship_tag": "ABX9TyOsQ80YSP1Q7nx+6Yh8Gt+H",
      "include_colab_link": true
    },
    "kernelspec": {
      "name": "python3",
      "display_name": "Python 3"
    },
    "language_info": {
      "name": "python"
    }
  },
  "cells": [
    {
      "cell_type": "markdown",
      "metadata": {
        "id": "view-in-github",
        "colab_type": "text"
      },
      "source": [
        "<a href=\"https://colab.research.google.com/github/ProfAndersonVanin/FATEC_MINERACAO_DADOS_2SEM2024/blob/main/WebScraping_FATEC_PARTE_01.ipynb\" target=\"_parent\"><img src=\"https://colab.research.google.com/assets/colab-badge.svg\" alt=\"Open In Colab\"/></a>"
      ]
    },
    {
      "cell_type": "code",
      "execution_count": 1,
      "metadata": {
        "colab": {
          "base_uri": "https://localhost:8080/"
        },
        "id": "SNl2KL5v_dUI",
        "outputId": "e6245120-b236-4dfa-cc51-57f1b0ebcec0"
      },
      "outputs": [
        {
          "output_type": "stream",
          "name": "stdout",
          "text": [
            "Requirement already satisfied: requests in /usr/local/lib/python3.10/dist-packages (2.32.3)\n",
            "Requirement already satisfied: charset-normalizer<4,>=2 in /usr/local/lib/python3.10/dist-packages (from requests) (3.4.0)\n",
            "Requirement already satisfied: idna<4,>=2.5 in /usr/local/lib/python3.10/dist-packages (from requests) (3.10)\n",
            "Requirement already satisfied: urllib3<3,>=1.21.1 in /usr/local/lib/python3.10/dist-packages (from requests) (2.2.3)\n",
            "Requirement already satisfied: certifi>=2017.4.17 in /usr/local/lib/python3.10/dist-packages (from requests) (2024.8.30)\n",
            "Requirement already satisfied: beautifulsoup4 in /usr/local/lib/python3.10/dist-packages (4.12.3)\n",
            "Requirement already satisfied: soupsieve>1.2 in /usr/local/lib/python3.10/dist-packages (from beautifulsoup4) (2.6)\n"
          ]
        }
      ],
      "source": [
        "# bibliotecas\n",
        "!pip install requests\n",
        "!pip install beautifulsoup4"
      ]
    },
    {
      "cell_type": "code",
      "source": [
        "import requests\n",
        "from bs4 import BeautifulSoup\n",
        "\n",
        "# URL do site de exemplo hospedado no GitHub Pages\n",
        "url = 'https://profandersonvanin.github.io/fatec_teste/'"
      ],
      "metadata": {
        "id": "qEk1RNGP_5md"
      },
      "execution_count": 2,
      "outputs": []
    },
    {
      "cell_type": "code",
      "source": [
        "# Fazendo a requisição HTTP para obter o conteúdo da página\n",
        "response = requests.get(url)"
      ],
      "metadata": {
        "id": "04i5rOeb_8rF"
      },
      "execution_count": 3,
      "outputs": []
    },
    {
      "cell_type": "code",
      "source": [
        "response"
      ],
      "metadata": {
        "colab": {
          "base_uri": "https://localhost:8080/"
        },
        "id": "47wUu04OAHOO",
        "outputId": "000feab3-fa99-478a-c111-c63312a0789a"
      },
      "execution_count": 4,
      "outputs": [
        {
          "output_type": "execute_result",
          "data": {
            "text/plain": [
              "<Response [200]>"
            ]
          },
          "metadata": {},
          "execution_count": 4
        }
      ]
    },
    {
      "cell_type": "code",
      "source": [
        "response.text"
      ],
      "metadata": {
        "colab": {
          "base_uri": "https://localhost:8080/",
          "height": 159
        },
        "id": "nz8LdcklAsZc",
        "outputId": "f573cf4b-989a-40c9-8b16-4969023bea7f"
      },
      "execution_count": 9,
      "outputs": [
        {
          "output_type": "execute_result",
          "data": {
            "text/plain": [
              "'<!DOCTYPE html>\\r\\n<html lang=\"pt-BR\">\\r\\n<head>\\r\\n    <meta charset=\"UTF-8\">\\r\\n    <meta name=\"viewport\" content=\"width=device-width, initial-scale=1.0\">\\r\\n    <title>Loja de Exemplo</title>\\r\\n</head>\\r\\n<body>\\r\\n    <h1>Produtos Disponíveis</h1>\\r\\n    <div class=\"produto\">\\r\\n        <h2>Produto 1</h2>\\r\\n        <p>Preço: R$20,00</p>\\r\\n        <p>Descrição: Um produto de alta qualidade.</p>\\r\\n    </div>\\r\\n    <div class=\"produto\">\\r\\n        <h2>Produto 2</h2>\\r\\n        <p>Preço: R$45,00</p>\\r\\n        <p>Descrição: Perfeito para o uso diário.</p>\\r\\n    </div>\\r\\n</body>\\r\\n</html>'"
            ],
            "application/vnd.google.colaboratory.intrinsic+json": {
              "type": "string"
            }
          },
          "metadata": {},
          "execution_count": 9
        }
      ]
    },
    {
      "cell_type": "code",
      "source": [
        "bonito = BeautifulSoup(response.text, 'html.parser')"
      ],
      "metadata": {
        "id": "4t_Xv3BuBIup"
      },
      "execution_count": 7,
      "outputs": []
    },
    {
      "cell_type": "code",
      "source": [
        "print(bonito.prettify())"
      ],
      "metadata": {
        "colab": {
          "base_uri": "https://localhost:8080/"
        },
        "id": "5C7pTYtnBRSp",
        "outputId": "5b8f86bb-821a-4399-8b2d-12c30251b2bc"
      },
      "execution_count": 11,
      "outputs": [
        {
          "output_type": "stream",
          "name": "stdout",
          "text": [
            "<!DOCTYPE html>\n",
            "<html lang=\"pt-BR\">\n",
            " <head>\n",
            "  <meta charset=\"utf-8\"/>\n",
            "  <meta content=\"width=device-width, initial-scale=1.0\" name=\"viewport\"/>\n",
            "  <title>\n",
            "   Loja de Exemplo\n",
            "  </title>\n",
            " </head>\n",
            " <body>\n",
            "  <h1>\n",
            "   Produtos Disponíveis\n",
            "  </h1>\n",
            "  <div class=\"produto\">\n",
            "   <h2>\n",
            "    Produto 1\n",
            "   </h2>\n",
            "   <p>\n",
            "    Preço: R$20,00\n",
            "   </p>\n",
            "   <p>\n",
            "    Descrição: Um produto de alta qualidade.\n",
            "   </p>\n",
            "  </div>\n",
            "  <div class=\"produto\">\n",
            "   <h2>\n",
            "    Produto 2\n",
            "   </h2>\n",
            "   <p>\n",
            "    Preço: R$45,00\n",
            "   </p>\n",
            "   <p>\n",
            "    Descrição: Perfeito para o uso diário.\n",
            "   </p>\n",
            "  </div>\n",
            " </body>\n",
            "</html>\n",
            "\n"
          ]
        }
      ]
    },
    {
      "cell_type": "code",
      "source": [
        "# Encontrando todos os produtos na página\n",
        "\n",
        "produtos = bonito.find_all('div', class_='produto')\n",
        "# produtos = bonito.find_all('h2')\n",
        "produtos[0]"
      ],
      "metadata": {
        "colab": {
          "base_uri": "https://localhost:8080/"
        },
        "id": "VFD6lMCgCLT6",
        "outputId": "71423a2d-30f3-4d14-8447-b29d7565aa15"
      },
      "execution_count": 16,
      "outputs": [
        {
          "output_type": "execute_result",
          "data": {
            "text/plain": [
              "<div class=\"produto\">\n",
              "<h2>Produto 1</h2>\n",
              "<p>Preço: R$20,00</p>\n",
              "<p>Descrição: Um produto de alta qualidade.</p>\n",
              "</div>"
            ]
          },
          "metadata": {},
          "execution_count": 16
        }
      ]
    },
    {
      "cell_type": "code",
      "source": [
        "nome_produto = produtos[0].find('h2').text\n",
        "print(\"Produto Nome = \",nome_produto)"
      ],
      "metadata": {
        "colab": {
          "base_uri": "https://localhost:8080/"
        },
        "id": "w1JN4oIdDxfK",
        "outputId": "82e02780-9a73-472f-9013-137d41b335ff"
      },
      "execution_count": 19,
      "outputs": [
        {
          "output_type": "stream",
          "name": "stdout",
          "text": [
            "Produto Nome =  Produto 1\n"
          ]
        }
      ]
    },
    {
      "cell_type": "code",
      "source": [
        "preco_produto = produtos[0].find_all('p')[0].text\n",
        "preco_produto"
      ],
      "metadata": {
        "colab": {
          "base_uri": "https://localhost:8080/",
          "height": 35
        },
        "id": "jI_S0SJCEai-",
        "outputId": "5b5efe24-a2af-4979-ec19-62fea6dfb600"
      },
      "execution_count": 26,
      "outputs": [
        {
          "output_type": "execute_result",
          "data": {
            "text/plain": [
              "'Preço: R$20,00'"
            ],
            "application/vnd.google.colaboratory.intrinsic+json": {
              "type": "string"
            }
          },
          "metadata": {},
          "execution_count": 26
        }
      ]
    },
    {
      "cell_type": "code",
      "source": [
        "desc_produto = produtos[0].find_all('p')[1].text\n",
        "desc_produto"
      ],
      "metadata": {
        "colab": {
          "base_uri": "https://localhost:8080/",
          "height": 35
        },
        "id": "409n2cSrFMx9",
        "outputId": "698bd3c7-8900-4ea2-ed16-7d53bec3ae63"
      },
      "execution_count": 25,
      "outputs": [
        {
          "output_type": "execute_result",
          "data": {
            "text/plain": [
              "'Descrição: Um produto de alta qualidade.'"
            ],
            "application/vnd.google.colaboratory.intrinsic+json": {
              "type": "string"
            }
          },
          "metadata": {},
          "execution_count": 25
        }
      ]
    },
    {
      "cell_type": "code",
      "source": [
        "produtos = bonito.find_all('div', class_='produto')"
      ],
      "metadata": {
        "id": "mtbhUUwGGX82"
      },
      "execution_count": 27,
      "outputs": []
    },
    {
      "cell_type": "code",
      "source": [
        "produtos"
      ],
      "metadata": {
        "colab": {
          "base_uri": "https://localhost:8080/"
        },
        "id": "efN5xo56Gayk",
        "outputId": "e62db8d4-13f1-4150-8449-84dbfdc2886d"
      },
      "execution_count": 28,
      "outputs": [
        {
          "output_type": "execute_result",
          "data": {
            "text/plain": [
              "[<div class=\"produto\">\n",
              " <h2>Produto 1</h2>\n",
              " <p>Preço: R$20,00</p>\n",
              " <p>Descrição: Um produto de alta qualidade.</p>\n",
              " </div>,\n",
              " <div class=\"produto\">\n",
              " <h2>Produto 2</h2>\n",
              " <p>Preço: R$45,00</p>\n",
              " <p>Descrição: Perfeito para o uso diário.</p>\n",
              " </div>]"
            ]
          },
          "metadata": {},
          "execution_count": 28
        }
      ]
    },
    {
      "cell_type": "code",
      "source": [
        "# Verificando se a requisição foi bem-sucedida\n",
        "if response.status_code == 200:\n",
        "    print(\"Conexão bem-sucedida!\")\n",
        "    # Criação do objeto BeautifulSoup para parsing do HTML\n",
        "    soup = BeautifulSoup(response.text, 'html.parser')\n",
        "\n",
        "    # Encontrando todos os produtos na página\n",
        "    produtos = soup.find_all('div', class_='produto')\n",
        "\n",
        "    lista = []\n",
        "    # Extraindo e exibindo as informações dos produtos\n",
        "    for produto in produtos:\n",
        "        nome = produto.find('h2').text\n",
        "        preco = produto.find('p').text\n",
        "        descricao = produto.find_all('p')[1].text\n",
        "\n",
        "        lista.append(nome)\n",
        "        lista.append(preco)\n",
        "        lista.append(descricao)\n",
        "\n",
        "        print(\"Nome:\", nome)\n",
        "        print(\"Preço:\", preco)\n",
        "        print(\"Descrição:\", descricao)\n",
        "        print(\"-\" * 20)\n",
        "else:\n",
        "    print(\"Erro ao acessar o site.\")\n",
        "\n",
        "lista"
      ],
      "metadata": {
        "colab": {
          "base_uri": "https://localhost:8080/"
        },
        "id": "k1xwscQ1__ac",
        "outputId": "97f5e23c-dbc4-46e6-b44e-b5a6562fe178"
      },
      "execution_count": 30,
      "outputs": [
        {
          "output_type": "stream",
          "name": "stdout",
          "text": [
            "Conexão bem-sucedida!\n",
            "Nome: Produto 1\n",
            "Preço: Preço: R$20,00\n",
            "Descrição: Descrição: Um produto de alta qualidade.\n",
            "--------------------\n",
            "Nome: Produto 2\n",
            "Preço: Preço: R$45,00\n",
            "Descrição: Descrição: Perfeito para o uso diário.\n",
            "--------------------\n"
          ]
        },
        {
          "output_type": "execute_result",
          "data": {
            "text/plain": [
              "['Produto 1',\n",
              " 'Preço: R$20,00',\n",
              " 'Descrição: Um produto de alta qualidade.',\n",
              " 'Produto 2',\n",
              " 'Preço: R$45,00',\n",
              " 'Descrição: Perfeito para o uso diário.']"
            ]
          },
          "metadata": {},
          "execution_count": 30
        }
      ]
    },
    {
      "cell_type": "markdown",
      "source": [
        "[\n",
        "  {\n",
        "    \"produto\":\"produto1\", \"Preço\": \"R$20,00\"\n",
        "  },\n",
        "  {\n",
        "    \"produto\":\"produto2\", \"Preço\": \"R$12,00\"\n",
        "  }\n",
        "]"
      ],
      "metadata": {
        "id": "JmpLC7D1HGHs"
      }
    },
    {
      "cell_type": "code",
      "source": [
        "soup"
      ],
      "metadata": {
        "id": "cJJRgQNoAMmW"
      },
      "execution_count": null,
      "outputs": []
    }
  ]
}